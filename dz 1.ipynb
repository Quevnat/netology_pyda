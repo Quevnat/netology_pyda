{
 "cells": [
  {
   "cell_type": "markdown",
   "metadata": {},
   "source": [
    "### **Задание 1. **\n",
    "### Даны 2 строки long_phrase и short_phrase. Напишите код, который проверяет действительно ли длинная фраза \n",
    "long_phrase длиннее короткой short_phrase. И выводит True или False в зависимости от результата сравнения.\n",
    "\n",
    "long_phrase = 'Насколько проще было бы писать программы, если бы не заказчики’\n",
    "short_phrase = ‘640Кб должно хватить для любых задач. Билл Гейтс (по легенде)’"
   ]
  },
  {
   "cell_type": "code",
   "execution_count": 9,
   "metadata": {},
   "outputs": [
    {
     "name": "stdout",
     "output_type": "stream",
     "text": [
      "Введите короткую фразу\n",
      "123\n",
      "Введите длинную фразу\n",
      "13\n",
      "Правда\n"
     ]
    }
   ],
   "source": [
    "print ('Введите короткую фразу')\n",
    "long_phrase = input() # считываем строку и кладём её в переменную long_phrase\n",
    "print ('Введите длинную фразу')\n",
    "short_phrase = input() # считываем строку и кладём её в переменную short_phrase\n",
    "if len(long_phrase) > len(short_phrase): # сравниваем строки по длинне\n",
    "    print('Правда')\n",
    "else:\n",
    "    print('Ложь')"
   ]
  },
  {
   "cell_type": "markdown",
   "metadata": {},
   "source": [
    "### Задание 2. Дано значение объема файла в байтах. Напишите перевод этого значения в мегабайты в формате:‘Объем файла равен 213.68Mb’"
   ]
  },
  {
   "cell_type": "code",
   "execution_count": 18,
   "metadata": {},
   "outputs": [
    {
     "name": "stdout",
     "output_type": "stream",
     "text": [
      "Введите байты\n",
      "5000000\n",
      "Объем файла равен 5.0 Mb\n"
     ]
    }
   ],
   "source": [
    "print('Введите байты')\n",
    "byte = int(input())\n",
    "Mbyte = byte * 0.000001\n",
    "print('Объем файла равен', Mbyte, 'Mb')"
   ]
  },
  {
   "cell_type": "markdown",
   "metadata": {},
   "source": [
    "### Задание 3. Разработать приложение для определения знака зодиака по дате рождения.\n",
    "Пример:\n",
    "Введите месяц: март\n",
    "Введите число: 6\n",
    "Вывод:\n",
    "Рыбы"
   ]
  },
  {
   "cell_type": "code",
   "execution_count": 8,
   "metadata": {},
   "outputs": [
    {
     "name": "stdout",
     "output_type": "stream",
     "text": [
      "Введите месяц рождения\n",
      "август\n",
      "Введите день рождения\n",
      "14\n",
      "Ваш знак зодиака Лев\n"
     ]
    }
   ],
   "source": [
    "print('Введите месяц рождения')\n",
    "month = input()\n",
    "print('Введите день рождения')\n",
    "day = int(input())\n",
    "if month.lower() == 'март' and day >= 21 and day <= 31 or month.lower() == 'апрель' and day >= 1 and day <= 19:\n",
    "    print ('Ваш знак зодиака Овен')\n",
    "elif month.lower() == 'апрель' and day >= 20 and day <= 31 or month.lower() == 'май' and day >= 1 and day <= 20:\n",
    "    print ('Ваш знак зодиака Телец')   \n",
    "elif month.lower() == 'май' and day >= 21 and day <= 31 or month.lower() == 'июнь' and day >= 1 and day <= 20:\n",
    "    print ('Ваш знак зодиака Близнецы')\n",
    "elif month.lower() == 'июнь' and day >= 21 and day <= 31 or month.lower() == 'июль' and day >= 1 and day <= 22:\n",
    "    print ('Ваш знак зодиака Рак')    \n",
    "elif month.lower() == 'июль' and day >= 23 and day <= 31 or month.lower() == 'август' and day >= 1 and day <= 22:\n",
    "    print ('Ваш знак зодиака Лев')   \n",
    "elif month.lower() == 'август' and day >= 23 and day <= 31 or month.lower() == 'сентябрь' and day >= 1 and day <= 22:\n",
    "    print ('Ваш знак зодиака Дева')\n",
    "elif month.lower() == 'сентябрь' and day >= 23 and day <= 31 or month.lower() == 'октябрь' and day >= 1 and day <= 22:\n",
    "    print ('Ваш знак зодиака Весы')\n",
    "elif month.lower() == 'октябрь' and day >= 23 and day <= 31 or month.lower() == 'ноябрь' and day >= 1 and day <= 21:\n",
    "    print ('Ваш знак зодиака Скорпион')   \n",
    "elif month.lower() == 'ноябрь' and day >= 22 and day <= 31 or month.lower() == 'декабрь' and day >= 1 and day <= 21:\n",
    "    print ('Ваш знак зодиака Стрелец')\n",
    "elif month.lower() == 'декабрь' and day >= 22 and day <= 31 or month.lower() == 'январь' and day >= 1 and day <= 19:\n",
    "    print ('Ваш знак зодиака Козерог')    \n",
    "elif month.lower() == 'январь' and day >= 20 and day <= 31 or month.lower() == 'февраль' and day >= 1 and day <= 18:\n",
    "    print ('Ваш знак зодиака Водолей')\n",
    "elif month.lower() == 'февраль' and day >= 20 and day <= 29 or month.lower() == 'март' and day >= 1 and day <= 20:\n",
    "    print ('Ваш знак зодиака Рыбы')\n",
    "else: print ('Введите правильную дату рождения')   "
   ]
  },
  {
   "cell_type": "markdown",
   "metadata": {},
   "source": [
    "### Задание 4. Нужно разработать приложение для финансового планирования\n",
    "Приложение учитывает сколько уходит на ипотеку, “на жизнь” и сколько нужно отложить на пенсию.\n",
    "Пользователь вводит заработанную плату в месяц.\n",
    "Сколько процентов от зп уходит на ипотеку.\n",
    "Сколько процентов от зп уходит “на жизнь”.\n",
    "Сколько раз приходит премия в год.\n",
    "Остальная часть заработанной платы откладывается на пенсию.\n",
    "Также пользователю приходит премия в размере зарплаты, от которой половина уходит на отпуск, а вторая половина откладывается.\n",
    "Программа должна учитывать сколько премий было в год.\n",
    "Нужно вывести сколько денег тратит пользователь на ипотеку и сколько он накопит за год.\n",
    "Пример:\n",
    "\n",
    "Введите заработанную плату в месяц: 100000\n",
    "Введите сколько процентов уходит на ипотеку: 30\n",
    "Введите сколько процентов уходит на жизнь: 50\n",
    "Введите количество премий за год: 2\n",
    "\n",
    "Вывод:\n",
    "На ипотеку было потрачено: 360000 рублей\n",
    "Было накоплено: 340000 рублей"
   ]
  },
  {
   "cell_type": "code",
   "execution_count": 27,
   "metadata": {},
   "outputs": [
    {
     "name": "stdout",
     "output_type": "stream",
     "text": [
      "Введите заработную плату в месяц\n",
      "100000\n",
      "Введите сколько процентов уходит на ипотеку\n",
      "30\n",
      "Введите сколько процентов уходит на жизнь\n",
      "50\n",
      "Введите количество премий за год\n",
      "2\n",
      "На ипотеку было потрачено 360000.0 рублей\n",
      "Накоплено было 340000.0 рублей\n"
     ]
    }
   ],
   "source": [
    "print ('Введите заработную плату в месяц')\n",
    "salary = int(input())\n",
    "print ('Введите сколько процентов уходит на ипотеку')\n",
    "mortgage = int(input())\n",
    "print ('Введите сколько процентов уходит на жизнь')\n",
    "life = int(input())\n",
    "print ('Введите количество премий за год')\n",
    "bounty = int(input())\n",
    "mortgage_year = salary * (mortgage/100) * 12\n",
    "mortgage_tot = salary * (mortgage/100)\n",
    "life_tot = salary * (life/100)\n",
    "bounty_tot = (salary * bounty) * 0.5\n",
    "storage = (salary - life_tot - mortgage_tot) * 12 + bounty_tot\n",
    "print('На ипотеку было потрачено', mortgage_year, 'рублей')\n",
    "print('Накоплено было', storage, 'рублей')"
   ]
  },
  {
   "cell_type": "code",
   "execution_count": null,
   "metadata": {},
   "outputs": [],
   "source": []
  }
 ],
 "metadata": {
  "kernelspec": {
   "display_name": "Python 3",
   "language": "python",
   "name": "python3"
  },
  "language_info": {
   "codemirror_mode": {
    "name": "ipython",
    "version": 3
   },
   "file_extension": ".py",
   "mimetype": "text/x-python",
   "name": "python",
   "nbconvert_exporter": "python",
   "pygments_lexer": "ipython3",
   "version": "3.7.1"
  }
 },
 "nbformat": 4,
 "nbformat_minor": 2
}
